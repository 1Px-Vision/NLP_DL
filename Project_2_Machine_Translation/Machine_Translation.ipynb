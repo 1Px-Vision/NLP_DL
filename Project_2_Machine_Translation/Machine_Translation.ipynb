{
 "cells": [
  {
   "cell_type": "markdown",
   "metadata": {
    "collapsed": true
   },
   "source": [
    "# Artificial Intelligence Nanodegree\n",
    "## Machine Translation Project\n",
    "In this notebook, sections that end with **'(IMPLEMENTATION)'** in the header indicate that the following blocks of code will require additional functionality which you must provide. Please be sure to read the instructions carefully!\n",
    "\n",
    "## Introduction\n",
    "In this notebook, you will build a deep neural network that functions as part of an end-to-end machine translation pipeline. Your completed pipeline will accept English text as input and return the French translation.\n",
    "\n",
    "- **Preprocess** - You'll convert text to sequence of integers.\n",
    "- **Models** Create models which accepts a sequence of integers as input and returns a probability distribution over possible translations. After learning about the basic types of neural networks that are often used for machine translation, you will engage in your own investigations, to design your own model!\n",
    "- **Prediction** Run the model on English text."
   ]
  },
  {
   "cell_type": "code",
   "execution_count": 3,
   "metadata": {},
   "outputs": [
    {
     "name": "stdout",
     "output_type": "stream",
     "text": [
      "The autoreload extension is already loaded. To reload it, use:\n",
      "  %reload_ext autoreload\n"
     ]
    }
   ],
   "source": [
    "%load_ext autoreload\n",
    "%aimport helper, project_tests\n",
    "%autoreload 1"
   ]
  },
  {
   "cell_type": "code",
   "execution_count": 4,
   "metadata": {},
   "outputs": [
    {
     "name": "stdout",
     "output_type": "stream",
     "text": [
      "keras==2.14.0\r\n",
      "tf-keras==2.14.1\r\n"
     ]
    }
   ],
   "source": [
    "# Should return keras==2.14.0 and tf-keras==2.14.1\n",
    "!pip freeze | grep keras"
   ]
  },
  {
   "cell_type": "code",
   "execution_count": 5,
   "metadata": {},
   "outputs": [
    {
     "name": "stdout",
     "output_type": "stream",
     "text": [
      "tensorflow==2.14.0\r\n",
      "tensorflow-datasets==4.9.4\r\n",
      "tensorflow-estimator==2.14.0\r\n",
      "tensorflow-hub==0.16.1\r\n",
      "tensorflow-io-gcs-filesystem==0.34.0\r\n",
      "tensorflow-metadata==1.15.0\r\n"
     ]
    }
   ],
   "source": [
    "# Should return tensorflow==2.14.0\n",
    "!pip freeze | grep tensorflow"
   ]
  },
  {
   "cell_type": "code",
   "execution_count": 6,
   "metadata": {},
   "outputs": [],
   "source": [
    "import collections\n",
    "\n",
    "import helper\n",
    "import numpy as np\n",
    "import project_tests as tests\n",
    "\n",
    "from tensorflow.keras.preprocessing.text import Tokenizer\n",
    "from keras.preprocessing.sequence import pad_sequences\n",
    "from keras.models import Model,Sequential\n",
    "from keras.layers import GRU, Input, Dense, TimeDistributed, Activation, RepeatVector, Bidirectional, Dropout, LSTM\n",
    "from keras.layers import Embedding\n",
    "from keras.optimizers import Adam\n",
    "from keras.losses import sparse_categorical_crossentropy"
   ]
  },
  {
   "cell_type": "markdown",
   "metadata": {},
   "source": [
    "## Dataset\n",
    "We begin by investigating the dataset that will be used to train and evaluate your pipeline.  The most common datasets used for machine translation are from [WMT](http://www.statmt.org/).  However, that will take a long time to train a neural network on.  We'll be using a dataset we created for this project that contains a small vocabulary.  You'll be able to train your model in a reasonable time with this dataset.\n",
    "### Load Data\n",
    "The data is located in `data/small_vocab_en` and `data/small_vocab_fr`. The `small_vocab_en` file contains English sentences with their French translations in the `small_vocab_fr` file. Load the English and French data from these files from running the cell below."
   ]
  },
  {
   "cell_type": "code",
   "execution_count": 7,
   "metadata": {},
   "outputs": [
    {
     "name": "stdout",
     "output_type": "stream",
     "text": [
      "Dataset Loaded\n"
     ]
    }
   ],
   "source": [
    "# Load English data\n",
    "english_sentences = helper.load_data('data/small_vocab_en')\n",
    "# Load French data\n",
    "french_sentences = helper.load_data('data/small_vocab_fr')\n",
    "\n",
    "print('Dataset Loaded')"
   ]
  },
  {
   "cell_type": "markdown",
   "metadata": {},
   "source": [
    "### Files\n",
    "Each line in `small_vocab_en` contains an English sentence with the respective translation in each line of `small_vocab_fr`.  View the first two lines from each file."
   ]
  },
  {
   "cell_type": "code",
   "execution_count": 8,
   "metadata": {},
   "outputs": [
    {
     "name": "stdout",
     "output_type": "stream",
     "text": [
      "small_vocab_en Line 1:  new jersey is sometimes quiet during autumn , and it is snowy in april .\n",
      "small_vocab_fr Line 1:  new jersey est parfois calme pendant l' automne , et il est neigeux en avril .\n",
      "small_vocab_en Line 2:  the united states is usually chilly during july , and it is usually freezing in november .\n",
      "small_vocab_fr Line 2:  les états-unis est généralement froid en juillet , et il gèle habituellement en novembre .\n"
     ]
    }
   ],
   "source": [
    "for sample_i in range(2):\n",
    "    print('small_vocab_en Line {}:  {}'.format(sample_i + 1, english_sentences[sample_i]))\n",
    "    print('small_vocab_fr Line {}:  {}'.format(sample_i + 1, french_sentences[sample_i]))"
   ]
  },
  {
   "cell_type": "markdown",
   "metadata": {},
   "source": [
    "From looking at the sentences, you can see they have been preprocessed already.  The puncuations have been delimited using spaces. All the text have been converted to lowercase.  This should save you some time, but the text requires more preprocessing.\n",
    "### Vocabulary\n",
    "The complexity of the problem is determined by the complexity of the vocabulary.  A more complex vocabulary is a more complex problem.  Let's look at the complexity of the dataset we'll be working with."
   ]
  },
  {
   "cell_type": "code",
   "execution_count": 9,
   "metadata": {},
   "outputs": [
    {
     "name": "stdout",
     "output_type": "stream",
     "text": [
      "1823250 English words.\n",
      "227 unique English words.\n",
      "10 Most common words in the English dataset:\n",
      "\"is\" \",\" \".\" \"in\" \"it\" \"during\" \"the\" \"but\" \"and\" \"sometimes\"\n",
      "\n",
      "1961295 French words.\n",
      "355 unique French words.\n",
      "10 Most common words in the French dataset:\n",
      "\"est\" \".\" \",\" \"en\" \"il\" \"les\" \"mais\" \"et\" \"la\" \"parfois\"\n"
     ]
    }
   ],
   "source": [
    "english_words_counter = collections.Counter([word for sentence in english_sentences for word in sentence.split()])\n",
    "french_words_counter = collections.Counter([word for sentence in french_sentences for word in sentence.split()])\n",
    "\n",
    "print('{} English words.'.format(len([word for sentence in english_sentences for word in sentence.split()])))\n",
    "print('{} unique English words.'.format(len(english_words_counter)))\n",
    "print('10 Most common words in the English dataset:')\n",
    "print('\"' + '\" \"'.join(list(zip(*english_words_counter.most_common(10)))[0]) + '\"')\n",
    "print()\n",
    "print('{} French words.'.format(len([word for sentence in french_sentences for word in sentence.split()])))\n",
    "print('{} unique French words.'.format(len(french_words_counter)))\n",
    "print('10 Most common words in the French dataset:')\n",
    "print('\"' + '\" \"'.join(list(zip(*french_words_counter.most_common(10)))[0]) + '\"')"
   ]
  },
  {
   "cell_type": "markdown",
   "metadata": {},
   "source": [
    "For comparison, _Alice's Adventures in Wonderland_ contains 2,766 unique words of a total of 15,500 words.\n",
    "## Preprocess\n",
    "For this project, you won't use text data as input to your model. Instead, you'll convert the text into sequences of integers using the following preprocess methods:\n",
    "1. Tokenize the words into ids\n",
    "2. Add padding to make all the sequences the same length.\n",
    "\n",
    "Time to start preprocessing the data...\n",
    "### Tokenize (IMPLEMENTATION)\n",
    "For a neural network to predict on text data, it first has to be turned into data it can understand. Text data like \"dog\" is a sequence of ASCII character encodings.  Since a neural network is a series of multiplication and addition operations, the input data needs to be number(s).\n",
    "\n",
    "We can turn each character into a number or each word into a number.  These are called character and word ids, respectively.  Character ids are used for character level models that generate text predictions for each character.  A word level model uses word ids that generate text predictions for each word.  Word level models tend to learn better, since they are lower in complexity, so we'll use those.\n",
    "\n",
    "Turn each sentence into a sequence of words ids using Keras's [`Tokenizer`](https://keras.io/preprocessing/text/#tokenizer) function. Use this function to tokenize `english_sentences` and `french_sentences` in the cell below.\n",
    "\n",
    "Running the cell will run `tokenize` on sample data and show output for debugging."
   ]
  },
  {
   "cell_type": "code",
   "execution_count": 10,
   "metadata": {},
   "outputs": [
    {
     "name": "stdout",
     "output_type": "stream",
     "text": [
      "{'the': 1, 'quick': 2, 'a': 3, 'brown': 4, 'fox': 5, 'jumps': 6, 'over': 7, 'lazy': 8, 'dog': 9, 'by': 10, 'jove': 11, 'my': 12, 'study': 13, 'of': 14, 'lexicography': 15, 'won': 16, 'prize': 17, 'this': 18, 'is': 19, 'short': 20, 'sentence': 21}\n",
      "\n",
      "Sequence 1 in x\n",
      "  Input:  The quick brown fox jumps over the lazy dog .\n",
      "  Output: [1, 2, 4, 5, 6, 7, 1, 8, 9]\n",
      "Sequence 2 in x\n",
      "  Input:  By Jove , my quick study of lexicography won a prize .\n",
      "  Output: [10, 11, 12, 2, 13, 14, 15, 16, 3, 17]\n",
      "Sequence 3 in x\n",
      "  Input:  This is a short sentence .\n",
      "  Output: [18, 19, 3, 20, 21]\n"
     ]
    }
   ],
   "source": [
    "def tokenize(x):\n",
    "    \"\"\"\n",
    "    Tokenize x\n",
    "    :param x: List of sentences/strings to be tokenized\n",
    "    :return: Tuple of (tokenized x data, tokenizer used to tokenize x)\n",
    "    \"\"\"\n",
    "    x_tk=Tokenizer()\n",
    "    x_tk.fit_on_texts(x)\n",
    "    return x_tk.texts_to_sequences(x), x_tk\n",
    "tests.test_tokenize(tokenize)\n",
    "\n",
    "# Tokenize Example output\n",
    "text_sentences = [\n",
    "    'The quick brown fox jumps over the lazy dog .',\n",
    "    'By Jove , my quick study of lexicography won a prize .',\n",
    "    'This is a short sentence .']\n",
    "text_tokenized, text_tokenizer = tokenize(text_sentences)\n",
    "print(text_tokenizer.word_index)\n",
    "print()\n",
    "for sample_i, (sent, token_sent) in enumerate(zip(text_sentences, text_tokenized)):\n",
    "    print('Sequence {} in x'.format(sample_i + 1))\n",
    "    print('  Input:  {}'.format(sent))\n",
    "    print('  Output: {}'.format(token_sent))"
   ]
  },
  {
   "cell_type": "markdown",
   "metadata": {},
   "source": [
    "### Padding (IMPLEMENTATION)\n",
    "When batching the sequence of word ids together, each sequence needs to be the same length.  Since sentences are dynamic in length, we can add padding to the end of the sequences to make them the same length.\n",
    "\n",
    "Make sure all the English sequences have the same length and all the French sequences have the same length by adding padding to the **end** of each sequence using Keras's [`pad_sequences`](https://keras.io/preprocessing/sequence/#pad_sequences) function."
   ]
  },
  {
   "cell_type": "code",
   "execution_count": 11,
   "metadata": {},
   "outputs": [
    {
     "name": "stdout",
     "output_type": "stream",
     "text": [
      "Sequence 1 in x\n",
      "  Input:  [1 2 4 5 6 7 1 8 9]\n",
      "  Output: [1 2 4 5 6 7 1 8 9 0]\n",
      "Sequence 2 in x\n",
      "  Input:  [10 11 12  2 13 14 15 16  3 17]\n",
      "  Output: [10 11 12  2 13 14 15 16  3 17]\n",
      "Sequence 3 in x\n",
      "  Input:  [18 19  3 20 21]\n",
      "  Output: [18 19  3 20 21  0  0  0  0  0]\n"
     ]
    }
   ],
   "source": [
    "def pad(x, length=None):\n",
    "    \"\"\"\n",
    "    Pad x\n",
    "    :param x: List of sequences.\n",
    "    :param length: Length to pad the sequence to.  If None, use length of longest sequence in x.\n",
    "    :return: Padded numpy array of sequences\n",
    "    \"\"\"\n",
    "    if length is None:\n",
    "        length=max([len(sentence) for sentence in x])\n",
    "    return pad_sequences(x, maxlen=length, padding='post')\n",
    "tests.test_pad(pad)\n",
    "\n",
    "# Pad Tokenized output\n",
    "test_pad = pad(text_tokenized)\n",
    "for sample_i, (token_sent, pad_sent) in enumerate(zip(text_tokenized, test_pad)):\n",
    "    print('Sequence {} in x'.format(sample_i + 1))\n",
    "    print('  Input:  {}'.format(np.array(token_sent)))\n",
    "    print('  Output: {}'.format(pad_sent))"
   ]
  },
  {
   "cell_type": "markdown",
   "metadata": {},
   "source": [
    "### Preprocess Pipeline\n",
    "Your focus for this project is to build neural network architecture, so we won't ask you to create a preprocess pipeline.  Instead, we've provided you with the implementation of the `preprocess` function."
   ]
  },
  {
   "cell_type": "code",
   "execution_count": 12,
   "metadata": {},
   "outputs": [
    {
     "name": "stdout",
     "output_type": "stream",
     "text": [
      "Data Preprocessed\n",
      "Max English sentence length: 15\n",
      "Max French sentence length: 21\n",
      "English vocabulary size: 199\n",
      "French vocabulary size: 344\n"
     ]
    }
   ],
   "source": [
    "def preprocess(x, y):\n",
    "    \"\"\"\n",
    "    Preprocess x and y\n",
    "    :param x: Feature List of sentences\n",
    "    :param y: Label List of sentences\n",
    "    :return: Tuple of (Preprocessed x, Preprocessed y, x tokenizer, y tokenizer)\n",
    "    \"\"\"\n",
    "    preprocess_x, x_tk = tokenize(x)\n",
    "    preprocess_y, y_tk = tokenize(y)\n",
    "\n",
    "    preprocess_x = pad(preprocess_x)\n",
    "    preprocess_y = pad(preprocess_y)\n",
    "\n",
    "    # Keras's sparse_categorical_crossentropy function requires the labels to be in 3 dimensions\n",
    "    preprocess_y = preprocess_y.reshape(*preprocess_y.shape, 1)\n",
    "\n",
    "    return preprocess_x, preprocess_y, x_tk, y_tk\n",
    "\n",
    "preproc_english_sentences, preproc_french_sentences, english_tokenizer, french_tokenizer =\\\n",
    "    preprocess(english_sentences, french_sentences)\n",
    "    \n",
    "max_english_sequence_length = preproc_english_sentences.shape[1]\n",
    "max_french_sequence_length = preproc_french_sentences.shape[1]\n",
    "english_vocab_size = len(english_tokenizer.word_index)\n",
    "french_vocab_size = len(french_tokenizer.word_index)\n",
    "\n",
    "print('Data Preprocessed')\n",
    "print(\"Max English sentence length:\", max_english_sequence_length)\n",
    "print(\"Max French sentence length:\", max_french_sequence_length)\n",
    "print(\"English vocabulary size:\", english_vocab_size)\n",
    "print(\"French vocabulary size:\", french_vocab_size)"
   ]
  },
  {
   "cell_type": "markdown",
   "metadata": {},
   "source": [
    "## Models\n",
    "In this section, you will experiment with various neural network architectures.\n",
    "You will begin by training four relatively simple architectures.\n",
    "- Model 1 is a simple RNN\n",
    "- Model 2 is a RNN with Embedding\n",
    "- Model 3 is a Bidirectional RNN\n",
    "- Model 4 is an Encoder-Decoder RNN\n",
    "\n",
    "After experimenting with the four simple architectures, you will construct a deeper architecture that is designed to outperform all four models.\n",
    "### Ids Back to Text\n",
    "The neural network will be translating the input to words ids, which isn't the final form we want.  We want the French translation.  The function `logits_to_text` will bridge the gab between the logits from the neural network to the French translation.  You'll be using this function to better understand the output of the neural network."
   ]
  },
  {
   "cell_type": "code",
   "execution_count": 13,
   "metadata": {},
   "outputs": [
    {
     "name": "stdout",
     "output_type": "stream",
     "text": [
      "`logits_to_text` function loaded.\n"
     ]
    }
   ],
   "source": [
    "def logits_to_text(logits, tokenizer):\n",
    "    \"\"\"\n",
    "    Turn logits from a neural network into text using the tokenizer\n",
    "    :param logits: Logits from a neural network\n",
    "    :param tokenizer: Keras Tokenizer fit on the labels\n",
    "    :return: String that represents the text of the logits\n",
    "    \"\"\"\n",
    "    index_to_words = {id: word for word, id in tokenizer.word_index.items()}\n",
    "    index_to_words[0] = '<PAD>'\n",
    "\n",
    "    return ' '.join([index_to_words[prediction] for prediction in np.argmax(logits, 1)])\n",
    "\n",
    "print('`logits_to_text` function loaded.')"
   ]
  },
  {
   "cell_type": "markdown",
   "metadata": {},
   "source": [
    "### Model 1: RNN (IMPLEMENTATION)\n",
    "![RNN](images/rnn.png)\n",
    "A basic RNN model is a good baseline for sequence data.  In this model, you'll build a RNN that translates English to French."
   ]
  },
  {
   "cell_type": "code",
   "execution_count": 14,
   "metadata": {},
   "outputs": [
    {
     "name": "stderr",
     "output_type": "stream",
     "text": [
      "2024-08-20 21:14:47.122032: I tensorflow/compiler/xla/stream_executor/cuda/cuda_gpu_executor.cc:894] successful NUMA node read from SysFS had negative value (-1), but there must be at least one NUMA node, so returning NUMA node zero. See more at https://github.com/torvalds/linux/blob/v6.0/Documentation/ABI/testing/sysfs-bus-pci#L344-L355\n",
      "2024-08-20 21:14:47.134463: I tensorflow/compiler/xla/stream_executor/cuda/cuda_gpu_executor.cc:894] successful NUMA node read from SysFS had negative value (-1), but there must be at least one NUMA node, so returning NUMA node zero. See more at https://github.com/torvalds/linux/blob/v6.0/Documentation/ABI/testing/sysfs-bus-pci#L344-L355\n",
      "2024-08-20 21:14:47.137835: I tensorflow/compiler/xla/stream_executor/cuda/cuda_gpu_executor.cc:894] successful NUMA node read from SysFS had negative value (-1), but there must be at least one NUMA node, so returning NUMA node zero. See more at https://github.com/torvalds/linux/blob/v6.0/Documentation/ABI/testing/sysfs-bus-pci#L344-L355\n",
      "2024-08-20 21:14:47.143971: I tensorflow/compiler/xla/stream_executor/cuda/cuda_gpu_executor.cc:894] successful NUMA node read from SysFS had negative value (-1), but there must be at least one NUMA node, so returning NUMA node zero. See more at https://github.com/torvalds/linux/blob/v6.0/Documentation/ABI/testing/sysfs-bus-pci#L344-L355\n",
      "2024-08-20 21:14:47.147434: I tensorflow/compiler/xla/stream_executor/cuda/cuda_gpu_executor.cc:894] successful NUMA node read from SysFS had negative value (-1), but there must be at least one NUMA node, so returning NUMA node zero. See more at https://github.com/torvalds/linux/blob/v6.0/Documentation/ABI/testing/sysfs-bus-pci#L344-L355\n",
      "2024-08-20 21:14:47.152974: I tensorflow/compiler/xla/stream_executor/cuda/cuda_gpu_executor.cc:894] successful NUMA node read from SysFS had negative value (-1), but there must be at least one NUMA node, so returning NUMA node zero. See more at https://github.com/torvalds/linux/blob/v6.0/Documentation/ABI/testing/sysfs-bus-pci#L344-L355\n",
      "2024-08-20 21:14:47.474037: I tensorflow/compiler/xla/stream_executor/cuda/cuda_gpu_executor.cc:894] successful NUMA node read from SysFS had negative value (-1), but there must be at least one NUMA node, so returning NUMA node zero. See more at https://github.com/torvalds/linux/blob/v6.0/Documentation/ABI/testing/sysfs-bus-pci#L344-L355\n",
      "2024-08-20 21:14:47.476249: I tensorflow/compiler/xla/stream_executor/cuda/cuda_gpu_executor.cc:894] successful NUMA node read from SysFS had negative value (-1), but there must be at least one NUMA node, so returning NUMA node zero. See more at https://github.com/torvalds/linux/blob/v6.0/Documentation/ABI/testing/sysfs-bus-pci#L344-L355\n",
      "2024-08-20 21:14:47.478366: I tensorflow/compiler/xla/stream_executor/cuda/cuda_gpu_executor.cc:894] successful NUMA node read from SysFS had negative value (-1), but there must be at least one NUMA node, so returning NUMA node zero. See more at https://github.com/torvalds/linux/blob/v6.0/Documentation/ABI/testing/sysfs-bus-pci#L344-L355\n",
      "2024-08-20 21:14:47.480361: I tensorflow/core/common_runtime/gpu/gpu_device.cc:1886] Created device /job:localhost/replica:0/task:0/device:GPU:0 with 13764 MB memory:  -> device: 0, name: Tesla T4, pci bus id: 0000:00:06.0, compute capability: 7.5\n"
     ]
    },
    {
     "name": "stdout",
     "output_type": "stream",
     "text": [
      "Epoch 1/10\n"
     ]
    },
    {
     "name": "stderr",
     "output_type": "stream",
     "text": [
      "2024-08-20 21:14:51.952979: I tensorflow/compiler/xla/stream_executor/cuda/cuda_dnn.cc:442] Loaded cuDNN version 8600\n",
      "2024-08-20 21:14:57.161098: I tensorflow/compiler/xla/service/service.cc:168] XLA service 0x7c2d24275870 initialized for platform CUDA (this does not guarantee that XLA will be used). Devices:\n",
      "2024-08-20 21:14:57.161165: I tensorflow/compiler/xla/service/service.cc:176]   StreamExecutor device (0): Tesla T4, Compute Capability 7.5\n",
      "2024-08-20 21:14:57.299783: I tensorflow/compiler/mlir/tensorflow/utils/dump_mlir_util.cc:269] disabling MLIR crash reproducer, set env var `MLIR_CRASH_REPRODUCER_DIRECTORY` to enable.\n",
      "2024-08-20 21:14:57.993162: I ./tensorflow/compiler/jit/device_compiler.h:186] Compiled cluster using XLA!  This line is logged at most once for the lifetime of the process.\n"
     ]
    },
    {
     "name": "stdout",
     "output_type": "stream",
     "text": [
      "108/108 [==============================] - 16s 54ms/step - loss: 2.3924 - accuracy: 0.4981 - val_loss: nan - val_accuracy: 0.5795\n",
      "Epoch 2/10\n",
      "108/108 [==============================] - 5s 49ms/step - loss: 1.5254 - accuracy: 0.5901 - val_loss: nan - val_accuracy: 0.6208\n",
      "Epoch 3/10\n",
      "108/108 [==============================] - 5s 49ms/step - loss: 1.3125 - accuracy: 0.6236 - val_loss: nan - val_accuracy: 0.6555\n",
      "Epoch 4/10\n",
      "108/108 [==============================] - 5s 49ms/step - loss: 1.1850 - accuracy: 0.6501 - val_loss: nan - val_accuracy: 0.6739\n",
      "Epoch 5/10\n",
      "108/108 [==============================] - 5s 50ms/step - loss: 1.1018 - accuracy: 0.6636 - val_loss: nan - val_accuracy: 0.6834\n",
      "Epoch 6/10\n",
      "108/108 [==============================] - 5s 50ms/step - loss: 1.0472 - accuracy: 0.6733 - val_loss: nan - val_accuracy: 0.6941\n",
      "Epoch 7/10\n",
      "108/108 [==============================] - 5s 50ms/step - loss: 1.0037 - accuracy: 0.6825 - val_loss: nan - val_accuracy: 0.6993\n",
      "Epoch 8/10\n",
      "108/108 [==============================] - 5s 51ms/step - loss: 0.9696 - accuracy: 0.6894 - val_loss: nan - val_accuracy: 0.7094\n",
      "Epoch 9/10\n",
      "108/108 [==============================] - 6s 51ms/step - loss: 0.9373 - accuracy: 0.6960 - val_loss: nan - val_accuracy: 0.7163\n",
      "Epoch 10/10\n",
      "108/108 [==============================] - 6s 52ms/step - loss: 0.9104 - accuracy: 0.7015 - val_loss: nan - val_accuracy: 0.7207\n",
      "1/1 [==============================] - 1s 562ms/step\n",
      "new jersey est parfois chaud en mois de il est il est en <PAD> <PAD> <PAD> <PAD> <PAD> <PAD> <PAD> <PAD>\n"
     ]
    }
   ],
   "source": [
    "def simple_model(input_shape, output_sequence_length, english_vocab_size, french_vocab_size):\n",
    "    \"\"\"\n",
    "    Build and train a basic RNN on x and y\n",
    "    :param input_shape: Tuple of input shape\n",
    "    :param output_sequence_length: Length of output sequence\n",
    "    :param english_vocab_size: Number of unique English words in the dataset\n",
    "    :param french_vocab_size: Number of unique French words in the dataset\n",
    "    :return: Keras model built, but not trained\n",
    "    \"\"\"\n",
    "    # Done: Build the layers\n",
    "    model = Sequential()\n",
    "    model.add(GRU(256, input_shape=input_shape[1:], return_sequences=True))\n",
    "    model.add(TimeDistributed(Dense(1024, activation='relu')))\n",
    "    model.add(Dropout(0.5))\n",
    "    model.add(TimeDistributed(Dense(french_vocab_size, activation='softmax'))) \n",
    "    learning_rate=1e-3\n",
    "    model.compile(loss=sparse_categorical_crossentropy,\n",
    "                  optimizer=Adam(learning_rate),\n",
    "                  metrics=['accuracy'])\n",
    "    return model\n",
    "tests.test_simple_model(simple_model)\n",
    "\n",
    "# Reshaping the input to work with a basic RNN\n",
    "tmp_x = pad(preproc_english_sentences, max_french_sequence_length)\n",
    "tmp_x = tmp_x.reshape((-1, preproc_french_sentences.shape[-2], 1))\n",
    "\n",
    "# Train the neural network\n",
    "simple_rnn_model = simple_model(\n",
    "    tmp_x.shape,\n",
    "    max_french_sequence_length,\n",
    "    english_vocab_size,\n",
    "    french_vocab_size)\n",
    "simple_rnn_model.fit(tmp_x, preproc_french_sentences, batch_size=1024, epochs=10, validation_split=0.2)\n",
    "\n",
    "# Print prediction(s)\n",
    "print(logits_to_text(simple_rnn_model.predict(tmp_x[:1])[0], french_tokenizer))"
   ]
  },
  {
   "cell_type": "markdown",
   "metadata": {},
   "source": [
    "### Model 2: Embedding (IMPLEMENTATION)\n",
    "![RNN](images/embedding.png)\n",
    "You've turned the words into ids, but there's a better representation of a word.  This is called word embeddings.  An embedding is a vector representation of the word that is close to similar words in n-dimensional space, where the n represents the size of the embedding vectors.\n",
    "\n",
    "In this model, you'll create a RNN model using embedding."
   ]
  },
  {
   "cell_type": "code",
   "execution_count": 15,
   "metadata": {},
   "outputs": [
    {
     "name": "stdout",
     "output_type": "stream",
     "text": [
      "Model: \"sequential_3\"\n",
      "_________________________________________________________________\n",
      " Layer (type)                Output Shape              Param #   \n",
      "=================================================================\n",
      " embedding_1 (Embedding)     (None, 21, 256)           51200     \n",
      "                                                                 \n",
      " gru_3 (GRU)                 (None, 21, 256)           394752    \n",
      "                                                                 \n",
      " time_distributed_6 (TimeDi  (None, 21, 1024)          263168    \n",
      " stributed)                                                      \n",
      "                                                                 \n",
      " dropout_3 (Dropout)         (None, 21, 1024)          0         \n",
      "                                                                 \n",
      " time_distributed_7 (TimeDi  (None, 21, 345)           353625    \n",
      " stributed)                                                      \n",
      "                                                                 \n",
      "=================================================================\n",
      "Total params: 1062745 (4.05 MB)\n",
      "Trainable params: 1062745 (4.05 MB)\n",
      "Non-trainable params: 0 (0.00 Byte)\n",
      "_________________________________________________________________\n",
      "Epoch 1/10\n",
      "108/108 [==============================] - 12s 78ms/step - loss: 2.5314 - accuracy: 0.4989 - val_loss: 1.4237 - val_accuracy: 0.6352\n",
      "Epoch 2/10\n",
      "108/108 [==============================] - 7s 64ms/step - loss: 1.0254 - accuracy: 0.7242 - val_loss: 0.6863 - val_accuracy: 0.8013\n",
      "Epoch 3/10\n",
      "108/108 [==============================] - 7s 65ms/step - loss: 0.6347 - accuracy: 0.8078 - val_loss: 0.5089 - val_accuracy: 0.8382\n",
      "Epoch 4/10\n",
      "108/108 [==============================] - 7s 65ms/step - loss: 0.5012 - accuracy: 0.8392 - val_loss: 0.4166 - val_accuracy: 0.8639\n",
      "Epoch 5/10\n",
      "108/108 [==============================] - 7s 65ms/step - loss: 0.4235 - accuracy: 0.8612 - val_loss: 0.3582 - val_accuracy: 0.8816\n",
      "Epoch 6/10\n",
      "108/108 [==============================] - 7s 61ms/step - loss: 0.3751 - accuracy: 0.8757 - val_loss: 0.3309 - val_accuracy: 0.8882\n",
      "Epoch 7/10\n",
      "108/108 [==============================] - 7s 60ms/step - loss: 0.3386 - accuracy: 0.8867 - val_loss: 0.2972 - val_accuracy: 0.8994\n",
      "Epoch 8/10\n",
      "108/108 [==============================] - 6s 60ms/step - loss: 0.3102 - accuracy: 0.8960 - val_loss: 0.2718 - val_accuracy: 0.9081\n",
      "Epoch 9/10\n",
      "108/108 [==============================] - 6s 60ms/step - loss: 0.2858 - accuracy: 0.9039 - val_loss: 0.2562 - val_accuracy: 0.9127\n",
      "Epoch 10/10\n",
      "108/108 [==============================] - 6s 60ms/step - loss: 0.2684 - accuracy: 0.9094 - val_loss: 0.2423 - val_accuracy: 0.9172\n",
      "1/1 [==============================] - 0s 387ms/step\n",
      "new jersey est parfois calme en l' et il est neigeux en avril <PAD> <PAD> <PAD> <PAD> <PAD> <PAD> <PAD> <PAD>\n"
     ]
    }
   ],
   "source": [
    "def embed_model(input_shape, output_sequence_length, english_vocab_size, french_vocab_size):\n",
    "    \"\"\"\n",
    "    Build and train a RNN model using word embedding on x and y\n",
    "    :param input_shape: Tuple of input shape\n",
    "    :param output_sequence_length: Length of output sequence\n",
    "    :param english_vocab_size: Number of unique English words in the dataset\n",
    "    :param french_vocab_size: Number of unique French words in the dataset\n",
    "    :return: Keras model built, but not trained\n",
    "    \"\"\"\n",
    "    model=Sequential()\n",
    "    model.add(Embedding(english_vocab_size, 256, input_length=input_shape[1], input_shape=input_shape[1:]))\n",
    "    model.add(GRU(256, return_sequences=True))    \n",
    "    model.add(TimeDistributed(Dense(1024, activation='relu')))\n",
    "    model.add(Dropout(0.5))\n",
    "    model.add(TimeDistributed(Dense(french_vocab_size, activation='softmax'))) \n",
    "    learning_rate=1e-3\n",
    "    # Compile model\n",
    "    model.compile(loss=sparse_categorical_crossentropy,\n",
    "                  optimizer=Adam(learning_rate),\n",
    "                  metrics=['accuracy'])\n",
    "\n",
    "    \n",
    "   \n",
    "    return model\n",
    "tests.test_embed_model(embed_model)\n",
    "\n",
    "\n",
    "# TODO: Reshape the input\n",
    "tmp_x = pad(preproc_english_sentences, preproc_french_sentences.shape[1])\n",
    "tmp_x = tmp_x.reshape((-1, preproc_french_sentences.shape[-2]))\n",
    "\n",
    "# TODO: Train the neural network\n",
    "embed_rnn_model = embed_model(\n",
    "    tmp_x.shape,\n",
    "    preproc_french_sentences.shape[1],\n",
    "    len(english_tokenizer.word_index)+1,\n",
    "    len(french_tokenizer.word_index)+1)\n",
    "\n",
    "embed_rnn_model.summary()\n",
    "\n",
    "embed_rnn_model.fit(tmp_x, preproc_french_sentences, batch_size=1024, epochs=10, validation_split=0.2)\n",
    "\n",
    "# TODO: Print prediction(s)\n",
    "print(logits_to_text(embed_rnn_model.predict(tmp_x[:1])[0], french_tokenizer))\n"
   ]
  },
  {
   "cell_type": "markdown",
   "metadata": {},
   "source": [
    "### Model 3: Bidirectional RNNs (IMPLEMENTATION)\n",
    "![RNN](images/bidirectional.png)\n",
    "One restriction of a RNN is that it can't see the future input, only the past.  This is where bidirectional recurrent neural networks come in.  They are able to see the future data."
   ]
  },
  {
   "cell_type": "code",
   "execution_count": 16,
   "metadata": {},
   "outputs": [
    {
     "name": "stdout",
     "output_type": "stream",
     "text": [
      "Model: \"sequential_5\"\n",
      "_________________________________________________________________\n",
      " Layer (type)                Output Shape              Param #   \n",
      "=================================================================\n",
      " embedding_2 (Embedding)     (None, 21, 256)           51200     \n",
      "                                                                 \n",
      " gru_5 (GRU)                 (None, 21, 256)           394752    \n",
      "                                                                 \n",
      " time_distributed_10 (TimeD  (None, 21, 1024)          263168    \n",
      " istributed)                                                     \n",
      "                                                                 \n",
      " dropout_5 (Dropout)         (None, 21, 1024)          0         \n",
      "                                                                 \n",
      " time_distributed_11 (TimeD  (None, 21, 345)           353625    \n",
      " istributed)                                                     \n",
      "                                                                 \n",
      "=================================================================\n",
      "Total params: 1062745 (4.05 MB)\n",
      "Trainable params: 1062745 (4.05 MB)\n",
      "Non-trainable params: 0 (0.00 Byte)\n",
      "_________________________________________________________________\n",
      "Epoch 1/10\n",
      "108/108 [==============================] - 11s 77ms/step - loss: 2.5290 - accuracy: 0.5013 - val_loss: 1.4184 - val_accuracy: 0.6310\n",
      "Epoch 2/10\n",
      "108/108 [==============================] - 7s 65ms/step - loss: 1.0322 - accuracy: 0.7198 - val_loss: 0.6985 - val_accuracy: 0.7972\n",
      "Epoch 3/10\n",
      "108/108 [==============================] - 7s 66ms/step - loss: 0.6411 - accuracy: 0.8063 - val_loss: 0.5092 - val_accuracy: 0.8378\n",
      "Epoch 4/10\n",
      "108/108 [==============================] - 7s 65ms/step - loss: 0.4994 - accuracy: 0.8403 - val_loss: 0.4097 - val_accuracy: 0.8660\n",
      "Epoch 5/10\n",
      "108/108 [==============================] - 7s 62ms/step - loss: 0.4169 - accuracy: 0.8636 - val_loss: 0.3522 - val_accuracy: 0.8833\n",
      "Epoch 6/10\n",
      "108/108 [==============================] - 7s 60ms/step - loss: 0.3680 - accuracy: 0.8785 - val_loss: 0.3221 - val_accuracy: 0.8915\n",
      "Epoch 7/10\n",
      "108/108 [==============================] - 7s 61ms/step - loss: 0.3316 - accuracy: 0.8897 - val_loss: 0.2891 - val_accuracy: 0.9027\n",
      "Epoch 8/10\n",
      "108/108 [==============================] - 6s 59ms/step - loss: 0.3030 - accuracy: 0.8987 - val_loss: 0.2706 - val_accuracy: 0.9091\n",
      "Epoch 9/10\n",
      "108/108 [==============================] - 6s 59ms/step - loss: 0.2819 - accuracy: 0.9052 - val_loss: 0.2511 - val_accuracy: 0.9149\n",
      "Epoch 10/10\n",
      "108/108 [==============================] - 6s 59ms/step - loss: 0.2618 - accuracy: 0.9117 - val_loss: 0.2373 - val_accuracy: 0.9194\n",
      "1/1 [==============================] - 0s 386ms/step\n",
      "new jersey est parfois calme en l' automne l' automne et neigeux en en avril <PAD> <PAD> <PAD> <PAD> <PAD> <PAD>\n"
     ]
    }
   ],
   "source": [
    "def bd_model(input_shape, output_sequence_length, english_vocab_size, french_vocab_size):\n",
    "    \"\"\"\n",
    "    Build and train a bidirectional RNN model on x and y\n",
    "    :param input_shape: Tuple of input shape\n",
    "    :param output_sequence_length: Length of output sequence\n",
    "    :param english_vocab_size: Number of unique English words in the dataset\n",
    "    :param french_vocab_size: Number of unique French words in the dataset\n",
    "    :return: Keras model built, but not trained\n",
    "    \"\"\"\n",
    "    # TODO: Implement\n",
    "    model = Sequential()\n",
    "    model.add(Bidirectional(GRU(128, return_sequences=True), input_shape=input_shape[1:]))\n",
    "    model.add(TimeDistributed(Dense(1024, activation='relu')))\n",
    "    model.add(Dropout(0.5))\n",
    "    model.add(TimeDistributed(Dense(french_vocab_size, activation='softmax'))) \n",
    "    learning_rate=1e-3\n",
    "    # Compile model\n",
    "    model.compile(loss=sparse_categorical_crossentropy,\n",
    "                  optimizer=Adam(learning_rate),\n",
    "                  metrics=['accuracy'])\n",
    "    return model\n",
    "tests.test_bd_model(bd_model)\n",
    "\n",
    "\n",
    "# TODO: Train and Print prediction(s)\n",
    "tmp_x = pad(preproc_english_sentences, preproc_french_sentences.shape[1])\n",
    "tmp_x = tmp_x.reshape((-1, preproc_french_sentences.shape[-2]))\n",
    "\n",
    "# TODO: Train and Print prediction(s)\n",
    "embed_rnn_model = embed_model(\n",
    "    tmp_x.shape,\n",
    "    preproc_french_sentences.shape[1],\n",
    "    len(english_tokenizer.word_index)+1,\n",
    "    len(french_tokenizer.word_index)+1)\n",
    "\n",
    "embed_rnn_model.summary()\n",
    "\n",
    "embed_rnn_model.fit(tmp_x, preproc_french_sentences, batch_size=1024, epochs=10, validation_split=0.2)\n",
    "\n",
    "print(logits_to_text(embed_rnn_model.predict(tmp_x[:1])[0], french_tokenizer))"
   ]
  },
  {
   "cell_type": "markdown",
   "metadata": {},
   "source": [
    "### Model 4: Encoder-Decoder (IMPLEMENTATION)\n",
    "Time to look at encoder-decoder models.  This model is made up of an encoder and decoder. The encoder creates a matrix representation of the sentence.  The decoder takes this matrix as input and predicts the translation as output.\n",
    "\n",
    "Create an encoder-decoder model in the cell below."
   ]
  },
  {
   "cell_type": "code",
   "execution_count": 18,
   "metadata": {},
   "outputs": [
    {
     "name": "stdout",
     "output_type": "stream",
     "text": [
      "Model: \"sequential_7\"\n",
      "_________________________________________________________________\n",
      " Layer (type)                Output Shape              Param #   \n",
      "=================================================================\n",
      " gru_8 (GRU)                 (None, 256)               198912    \n",
      "                                                                 \n",
      " repeat_vector_1 (RepeatVec  (None, 21, 256)           0         \n",
      " tor)                                                            \n",
      "                                                                 \n",
      " gru_9 (GRU)                 (None, 21, 256)           394752    \n",
      "                                                                 \n",
      " time_distributed_14 (TimeD  (None, 21, 1024)          263168    \n",
      " istributed)                                                     \n",
      "                                                                 \n",
      " dropout_7 (Dropout)         (None, 21, 1024)          0         \n",
      "                                                                 \n",
      " time_distributed_15 (TimeD  (None, 21, 345)           353625    \n",
      " istributed)                                                     \n",
      "                                                                 \n",
      "=================================================================\n",
      "Total params: 1210457 (4.62 MB)\n",
      "Trainable params: 1210457 (4.62 MB)\n",
      "Non-trainable params: 0 (0.00 Byte)\n",
      "_________________________________________________________________\n",
      "Epoch 1/10\n",
      "108/108 [==============================] - 14s 82ms/step - loss: 2.4729 - accuracy: 0.4749 - val_loss: 1.7852 - val_accuracy: 0.5674\n",
      "Epoch 2/10\n",
      "108/108 [==============================] - 8s 76ms/step - loss: 1.6044 - accuracy: 0.5819 - val_loss: 1.4282 - val_accuracy: 0.6051\n",
      "Epoch 3/10\n",
      "108/108 [==============================] - 8s 77ms/step - loss: 1.4014 - accuracy: 0.6137 - val_loss: 1.3074 - val_accuracy: 0.6392\n",
      "Epoch 4/10\n",
      "108/108 [==============================] - 8s 76ms/step - loss: 1.3145 - accuracy: 0.6336 - val_loss: 1.2487 - val_accuracy: 0.6528\n",
      "Epoch 5/10\n",
      "108/108 [==============================] - 8s 74ms/step - loss: 1.2618 - accuracy: 0.6457 - val_loss: 1.2145 - val_accuracy: 0.6594\n",
      "Epoch 6/10\n",
      "108/108 [==============================] - 8s 73ms/step - loss: 1.2136 - accuracy: 0.6556 - val_loss: 1.1419 - val_accuracy: 0.6731\n",
      "Epoch 7/10\n",
      "108/108 [==============================] - 8s 72ms/step - loss: 1.1546 - accuracy: 0.6678 - val_loss: 1.1022 - val_accuracy: 0.6796\n",
      "Epoch 8/10\n",
      "108/108 [==============================] - 8s 72ms/step - loss: 1.1305 - accuracy: 0.6711 - val_loss: 1.0615 - val_accuracy: 0.6865\n",
      "Epoch 9/10\n",
      "108/108 [==============================] - 8s 72ms/step - loss: 1.0802 - accuracy: 0.6829 - val_loss: 1.0346 - val_accuracy: 0.6936\n",
      "Epoch 10/10\n",
      "108/108 [==============================] - 8s 72ms/step - loss: 1.1263 - accuracy: 0.6696 - val_loss: 1.0472 - val_accuracy: 0.6909\n"
     ]
    },
    {
     "data": {
      "text/plain": [
       "<keras.src.callbacks.History at 0x7c2fb533d390>"
      ]
     },
     "execution_count": 18,
     "metadata": {},
     "output_type": "execute_result"
    }
   ],
   "source": [
    "def encdec_model(input_shape, output_sequence_length, english_vocab_size, french_vocab_size):\n",
    "    \"\"\"\n",
    "    Build and train an encoder-decoder model on x and y\n",
    "    :param input_shape: Tuple of input shape\n",
    "    :param output_sequence_length: Length of output sequence\n",
    "    :param english_vocab_size: Number of unique English words in the dataset\n",
    "    :param french_vocab_size: Number of unique French words in the dataset\n",
    "    :return: Keras model built, but not trained\n",
    "    \"\"\"\n",
    "    # TODO: Implement\n",
    "    # Build the layers    \n",
    "    model = Sequential()\n",
    "    # Encoder\n",
    "    model.add(GRU(256, input_shape=input_shape[1:], go_backwards=True))\n",
    "    model.add(RepeatVector(output_sequence_length))\n",
    "    # Decoder\n",
    "    model.add(GRU(256, return_sequences=True))\n",
    "    model.add(TimeDistributed(Dense(1024, activation='relu')))\n",
    "    model.add(Dropout(0.5))\n",
    "    model.add(TimeDistributed(Dense(french_vocab_size, activation='softmax')))\n",
    "    learning_rate=1e-3\n",
    "    # Compile model\n",
    "    model.compile(loss=sparse_categorical_crossentropy,\n",
    "                  optimizer=Adam(learning_rate),\n",
    "                  metrics=['accuracy'])\n",
    "    \n",
    "    return model\n",
    "tests.test_encdec_model(encdec_model)\n",
    "\n",
    "\n",
    "# TODO: Train and Print prediction(s)\n",
    "# Reshape the input\n",
    "tmp_x = pad(preproc_english_sentences, preproc_french_sentences.shape[1])\n",
    "tmp_x = tmp_x.reshape((-1, preproc_french_sentences.shape[-2], 1))\n",
    "\n",
    "# Train and Print prediction(s)\n",
    "encdec_rnn_model = encdec_model(\n",
    "    tmp_x.shape,\n",
    "    preproc_french_sentences.shape[1],\n",
    "    len(english_tokenizer.word_index)+1,\n",
    "    len(french_tokenizer.word_index)+1)\n",
    "\n",
    "encdec_rnn_model.summary()\n",
    "\n",
    "encdec_rnn_model.fit(tmp_x, preproc_french_sentences, batch_size=1024, epochs=10, validation_split=0.2)"
   ]
  },
  {
   "cell_type": "markdown",
   "metadata": {},
   "source": [
    "### Model 5: Custom (IMPLEMENTATION)\n",
    "Use everything you learned from the previous models to create a model that incorporates embedding and a bidirectional rnn into one model."
   ]
  },
  {
   "cell_type": "code",
   "execution_count": 19,
   "metadata": {},
   "outputs": [
    {
     "name": "stdout",
     "output_type": "stream",
     "text": [
      "Final Model Loaded\n",
      "Model: \"sequential_9\"\n",
      "_________________________________________________________________\n",
      " Layer (type)                Output Shape              Param #   \n",
      "=================================================================\n",
      " embedding_4 (Embedding)     (None, 21, 128)           25472     \n",
      "                                                                 \n",
      " bidirectional_3 (Bidirecti  (None, 256)               198144    \n",
      " onal)                                                           \n",
      "                                                                 \n",
      " repeat_vector_3 (RepeatVec  (None, 21, 256)           0         \n",
      " tor)                                                            \n",
      "                                                                 \n",
      " bidirectional_4 (Bidirecti  (None, 21, 256)           296448    \n",
      " onal)                                                           \n",
      "                                                                 \n",
      " time_distributed_18 (TimeD  (None, 21, 512)           131584    \n",
      " istributed)                                                     \n",
      "                                                                 \n",
      " dropout_9 (Dropout)         (None, 21, 512)           0         \n",
      "                                                                 \n",
      " time_distributed_19 (TimeD  (None, 21, 344)           176472    \n",
      " istributed)                                                     \n",
      "                                                                 \n",
      "=================================================================\n",
      "Total params: 828120 (3.16 MB)\n",
      "Trainable params: 828120 (3.16 MB)\n",
      "Non-trainable params: 0 (0.00 Byte)\n",
      "_________________________________________________________________\n",
      "Epoch 1/10\n",
      "108/108 [==============================] - 19s 87ms/step - loss: 2.8874 - accuracy: 0.4484 - val_loss: nan - val_accuracy: 0.5115\n",
      "Epoch 2/10\n",
      "108/108 [==============================] - 7s 63ms/step - loss: 1.7916 - accuracy: 0.5495 - val_loss: nan - val_accuracy: 0.6172\n",
      "Epoch 3/10\n",
      "108/108 [==============================] - 7s 61ms/step - loss: 1.4513 - accuracy: 0.6194 - val_loss: nan - val_accuracy: 0.6566\n",
      "Epoch 4/10\n",
      "108/108 [==============================] - 7s 61ms/step - loss: 1.2857 - accuracy: 0.6519 - val_loss: nan - val_accuracy: 0.6800\n",
      "Epoch 5/10\n",
      "108/108 [==============================] - 7s 62ms/step - loss: 1.1701 - accuracy: 0.6736 - val_loss: nan - val_accuracy: 0.7002\n",
      "Epoch 6/10\n",
      "108/108 [==============================] - 6s 59ms/step - loss: 1.0994 - accuracy: 0.6887 - val_loss: nan - val_accuracy: 0.7162\n",
      "Epoch 7/10\n",
      "108/108 [==============================] - 6s 59ms/step - loss: 1.0228 - accuracy: 0.7062 - val_loss: nan - val_accuracy: 0.7280\n",
      "Epoch 8/10\n",
      "108/108 [==============================] - 6s 59ms/step - loss: 0.9740 - accuracy: 0.7160 - val_loss: nan - val_accuracy: 0.7338\n",
      "Epoch 9/10\n",
      "108/108 [==============================] - 6s 58ms/step - loss: 0.9354 - accuracy: 0.7238 - val_loss: nan - val_accuracy: 0.7457\n",
      "Epoch 10/10\n",
      "108/108 [==============================] - 6s 59ms/step - loss: 0.8724 - accuracy: 0.7384 - val_loss: nan - val_accuracy: 0.7577\n",
      "1/1 [==============================] - 1s 1s/step\n",
      "new jersey est parfois chaud pendant l'automne mais il est est en en <PAD> <PAD> <PAD> <PAD> <PAD> <PAD> <PAD> <PAD>\n"
     ]
    }
   ],
   "source": [
    "def model_final(input_shape, output_sequence_length, english_vocab_size, french_vocab_size):\n",
    "    \"\"\"\n",
    "    Build and train a model that incorporates embedding, encoder-decoder, and bidirectional RNN on x and y\n",
    "    :param input_shape: Tuple of input shape\n",
    "    :param output_sequence_length: Length of output sequence\n",
    "    :param english_vocab_size: Number of unique English words in the dataset\n",
    "    :param french_vocab_size: Number of unique French words in the dataset\n",
    "    :return: Keras model built, but not trained\n",
    "    \"\"\"\n",
    "    # TODO: Implement\n",
    "    # Build the layers    \n",
    "    model = Sequential()\n",
    "    # Embedding\n",
    "    model.add(Embedding(english_vocab_size, 128, input_length=input_shape[1],\n",
    "                         input_shape=input_shape[1:]))\n",
    "    # Encoder\n",
    "    model.add(Bidirectional(GRU(128)))\n",
    "    model.add(RepeatVector(output_sequence_length))\n",
    "    # Decoder\n",
    "    model.add(Bidirectional(GRU(128, return_sequences=True)))\n",
    "    model.add(TimeDistributed(Dense(512, activation='relu')))\n",
    "    model.add(Dropout(0.5))\n",
    "    model.add(TimeDistributed(Dense(french_vocab_size, activation='softmax')))\n",
    "    learning_rate=1e-3\n",
    "    model.compile(loss=sparse_categorical_crossentropy,\n",
    "                  optimizer=Adam(learning_rate),\n",
    "                  metrics=['accuracy'])\n",
    "    return model\n",
    "tests.test_model_final(model_final)\n",
    "\n",
    "\n",
    "print('Final Model Loaded')\n",
    "# TODO: Train the final model\n",
    "# Reshaping the input\n",
    "tmp_x = pad(preproc_english_sentences, max_french_sequence_length)\n",
    "\n",
    "# Training the neural network\n",
    "final_rnn_model = model_final(\n",
    "    tmp_x.shape,\n",
    "    max_french_sequence_length,\n",
    "    english_vocab_size,\n",
    "    french_vocab_size)\n",
    "final_rnn_model.summary()\n",
    "final_rnn_model.fit(tmp_x, preproc_french_sentences, batch_size=1024, epochs=10, validation_split=0.2)\n",
    "\n",
    "# Printing prediction(s)\n",
    "print(logits_to_text(final_rnn_model.predict(tmp_x[:1])[0], french_tokenizer))"
   ]
  },
  {
   "cell_type": "markdown",
   "metadata": {},
   "source": [
    "## Prediction (IMPLEMENTATION)"
   ]
  },
  {
   "cell_type": "code",
   "execution_count": 20,
   "metadata": {},
   "outputs": [
    {
     "name": "stdout",
     "output_type": "stream",
     "text": [
      "Epoch 1/20\n",
      "108/108 [==============================] - 18s 86ms/step - loss: 2.8908 - accuracy: 0.4516 - val_loss: nan - val_accuracy: 0.5186\n",
      "Epoch 2/20\n",
      "108/108 [==============================] - 7s 63ms/step - loss: 1.7960 - accuracy: 0.5491 - val_loss: nan - val_accuracy: 0.6192\n",
      "Epoch 3/20\n",
      "108/108 [==============================] - 7s 63ms/step - loss: 1.4557 - accuracy: 0.6156 - val_loss: nan - val_accuracy: 0.6557\n",
      "Epoch 4/20\n",
      "108/108 [==============================] - 7s 62ms/step - loss: 1.2873 - accuracy: 0.6497 - val_loss: nan - val_accuracy: 0.6837\n",
      "Epoch 5/20\n",
      "108/108 [==============================] - 6s 60ms/step - loss: 1.1686 - accuracy: 0.6739 - val_loss: nan - val_accuracy: 0.6996\n",
      "Epoch 6/20\n",
      "108/108 [==============================] - 6s 59ms/step - loss: 1.1004 - accuracy: 0.6884 - val_loss: nan - val_accuracy: 0.7128\n",
      "Epoch 7/20\n",
      "108/108 [==============================] - 6s 59ms/step - loss: 1.0464 - accuracy: 0.6997 - val_loss: nan - val_accuracy: 0.7217\n",
      "Epoch 8/20\n",
      "108/108 [==============================] - 6s 60ms/step - loss: 0.9993 - accuracy: 0.7103 - val_loss: nan - val_accuracy: 0.7311\n",
      "Epoch 9/20\n",
      "108/108 [==============================] - 6s 58ms/step - loss: 0.9509 - accuracy: 0.7200 - val_loss: nan - val_accuracy: 0.7422\n",
      "Epoch 10/20\n",
      "108/108 [==============================] - 6s 58ms/step - loss: 0.9026 - accuracy: 0.7306 - val_loss: nan - val_accuracy: 0.7498\n",
      "Epoch 11/20\n",
      "108/108 [==============================] - 6s 58ms/step - loss: 0.8604 - accuracy: 0.7396 - val_loss: nan - val_accuracy: 0.7617\n",
      "Epoch 12/20\n",
      "108/108 [==============================] - 7s 61ms/step - loss: 0.8134 - accuracy: 0.7494 - val_loss: nan - val_accuracy: 0.7682\n",
      "Epoch 13/20\n",
      "108/108 [==============================] - 6s 59ms/step - loss: 0.7685 - accuracy: 0.7601 - val_loss: nan - val_accuracy: 0.7813\n",
      "Epoch 14/20\n",
      "108/108 [==============================] - 6s 59ms/step - loss: 0.7310 - accuracy: 0.7703 - val_loss: nan - val_accuracy: 0.7937\n",
      "Epoch 15/20\n",
      "108/108 [==============================] - 6s 59ms/step - loss: 0.6899 - accuracy: 0.7818 - val_loss: nan - val_accuracy: 0.8045\n",
      "Epoch 16/20\n",
      "108/108 [==============================] - 6s 59ms/step - loss: 0.6573 - accuracy: 0.7915 - val_loss: nan - val_accuracy: 0.8106\n",
      "Epoch 17/20\n",
      "108/108 [==============================] - 6s 59ms/step - loss: 0.6312 - accuracy: 0.8000 - val_loss: nan - val_accuracy: 0.8290\n",
      "Epoch 18/20\n",
      "108/108 [==============================] - 6s 59ms/step - loss: 0.5922 - accuracy: 0.8122 - val_loss: nan - val_accuracy: 0.8381\n",
      "Epoch 19/20\n",
      "108/108 [==============================] - 6s 60ms/step - loss: 0.5649 - accuracy: 0.8213 - val_loss: nan - val_accuracy: 0.8492\n",
      "Epoch 20/20\n",
      "108/108 [==============================] - 6s 59ms/step - loss: 0.5355 - accuracy: 0.8316 - val_loss: nan - val_accuracy: 0.8610\n",
      "WARNING:tensorflow:5 out of the last 5 calls to <function Model.make_predict_function.<locals>.predict_function at 0x7c2fa1f3f920> triggered tf.function retracing. Tracing is expensive and the excessive number of tracings could be due to (1) creating @tf.function repeatedly in a loop, (2) passing tensors with different shapes, (3) passing Python objects instead of tensors. For (1), please define your @tf.function outside of the loop. For (2), @tf.function has reduce_retracing=True option that can avoid unnecessary retracing. For (3), please refer to https://www.tensorflow.org/guide/function#controlling_retracing and https://www.tensorflow.org/api_docs/python/tf/function for  more details.\n",
      "1/1 [==============================] - 2s 2s/step\n",
      "Sample 1:\n",
      "il a vu un vieux camion rouge <PAD> <PAD> <PAD> <PAD> <PAD> <PAD> <PAD> <PAD> <PAD> <PAD> <PAD> <PAD> <PAD> <PAD>\n",
      "Il a vu un vieux camion jaune\n",
      "Sample 2:\n",
      "new jersey est parfois calme pendant l'automne de il est est en en <PAD> <PAD> <PAD> <PAD> <PAD> <PAD> <PAD> <PAD>\n",
      "new jersey est parfois calme pendant l' automne et il est neigeux en avril <PAD> <PAD> <PAD> <PAD> <PAD> <PAD> <PAD>\n"
     ]
    }
   ],
   "source": [
    "def final_predictions(x, y, x_tk, y_tk):\n",
    "    \"\"\"\n",
    "    Gets predictions using the final model\n",
    "    :param x: Preprocessed English data\n",
    "    :param y: Preprocessed French data\n",
    "    :param x_tk: English tokenizer\n",
    "    :param y_tk: French tokenizer\n",
    "    \"\"\"\n",
    "    # TODO: Train neural network using model_final\n",
    "    x=pad(x,max_french_sequence_length)\n",
    "    model = model_final(x.shape, y.shape[1], len(x_tk.word_index), len(y_tk.word_index))\n",
    "    model.fit(x, y, batch_size=1024, epochs=20, validation_split=0.2)\n",
    "\n",
    "    \n",
    "    ## DON'T EDIT ANYTHING BELOW THIS LINE\n",
    "    y_id_to_word = {value: key for key, value in y_tk.word_index.items()}\n",
    "    y_id_to_word[0] = '<PAD>'\n",
    "\n",
    "    sentence = 'he saw a old yellow truck'\n",
    "    sentence = [x_tk.word_index[word] for word in sentence.split()]\n",
    "    sentence = pad_sequences([sentence], maxlen=x.shape[-1], padding='post')\n",
    "    sentences = np.array([sentence[0], x[0]])\n",
    "    predictions = model.predict(sentences, len(sentences))\n",
    "\n",
    "    print('Sample 1:')\n",
    "    print(' '.join([y_id_to_word[np.argmax(x)] for x in predictions[0]]))\n",
    "    print('Il a vu un vieux camion jaune')\n",
    "    print('Sample 2:')\n",
    "    print(' '.join([y_id_to_word[np.argmax(x)] for x in predictions[1]]))\n",
    "    print(' '.join([y_id_to_word[np.max(x)] for x in y[0]]))\n",
    "\n",
    "\n",
    "final_predictions(preproc_english_sentences, preproc_french_sentences, english_tokenizer, french_tokenizer)"
   ]
  },
  {
   "cell_type": "markdown",
   "metadata": {},
   "source": [
    "## Submission\n",
    "When you're ready to submit, complete the following steps:\n",
    "1. Review the rubric to ensure your submission meets all requirements to pass\n",
    "2. Generate an HTML version of this notebook\n",
    "\n",
    "  - Run the next cell to attempt automatic generation (this is the recommended method in Workspaces)\n",
    "  - Navigate to **FILE -> Download as -> HTML (.html)**\n",
    "  - Manually generate a copy using `nbconvert` from your shell terminal\n",
    "```\n",
    "$ pip install nbconvert\n",
    "$ python -m nbconvert machine_translation.ipynb\n",
    "```\n",
    "  \n",
    "3. Submit the project\n",
    "\n",
    "  - If you are in a Workspace, simply click the \"Submit Project\" button (bottom towards the right)\n",
    "  \n",
    "  - Otherwise, add the following files into a zip archive and submit them \n",
    "  - `helper.py`\n",
    "  - `machine_translation.ipynb`\n",
    "  - `machine_translation.html`\n",
    "    - You can export the notebook by navigating to **File -> Download as -> HTML (.html)**."
   ]
  },
  {
   "cell_type": "markdown",
   "metadata": {},
   "source": [
    "### Generate the html\n",
    "\n",
    "**Save your notebook before running the next cell to generate the HTML output.** Then submit your project."
   ]
  },
  {
   "cell_type": "code",
   "execution_count": 24,
   "metadata": {},
   "outputs": [
    {
     "data": {
      "text/plain": [
       "[\"[NbConvertApp] WARNING | pattern 'nbconvert' matched no files\",\n",
       " 'Traceback (most recent call last):',\n",
       " '  File \"/usr/local/bin/jupyter-nbconvert\", line 8, in <module>',\n",
       " '    sys.exit(main())',\n",
       " '             ^^^^^^',\n",
       " '  File \"/usr/local/lib/python3.11/dist-packages/jupyter_core/application.py\", line 283, in launch_instance',\n",
       " '    super().launch_instance(argv=argv, **kwargs)',\n",
       " '  File \"/usr/local/lib/python3.11/dist-packages/traitlets/config/application.py\", line 1075, in launch_instance',\n",
       " '    app.start()',\n",
       " '  File \"/usr/local/lib/python3.11/dist-packages/nbconvert/nbconvertapp.py\", line 420, in start',\n",
       " '    self.convert_notebooks()',\n",
       " '  File \"/usr/local/lib/python3.11/dist-packages/nbconvert/nbconvertapp.py\", line 582, in convert_notebooks',\n",
       " '    raise ValueError(msg)',\n",
       " \"ValueError: Please specify an output format with '--to <format>'.\",\n",
       " \"The following formats are available: ['asciidoc', 'custom', 'html', 'latex', 'markdown', 'notebook', 'pdf', 'python', 'qtpdf', 'qtpng', 'rst', 'script', 'slides', 'webpdf']\"]"
      ]
     },
     "execution_count": 24,
     "metadata": {},
     "output_type": "execute_result"
    }
   ],
   "source": [
    "# Save before you run this cell!\n",
    "!!jupyter -m nbconvert *.ipynb"
   ]
  },
  {
   "cell_type": "markdown",
   "metadata": {},
   "source": [
    "## Optional Enhancements\n",
    "\n",
    "This project focuses on learning various network architectures for machine translation, but we don't evaluate the models according to best practices by splitting the data into separate test & training sets -- so the model accuracy is overstated. Use the [`sklearn.model_selection.train_test_split()`](http://scikit-learn.org/stable/modules/generated/sklearn.model_selection.train_test_split.html) function to create separate training & test datasets, then retrain each of the models using only the training set and evaluate the prediction accuracy using the hold out test set. Does the \"best\" model change?"
   ]
  }
 ],
 "metadata": {
  "kernelspec": {
   "display_name": "Python 3 (ipykernel)",
   "language": "python",
   "name": "python3"
  },
  "language_info": {
   "codemirror_mode": {
    "name": "ipython",
    "version": 3
   },
   "file_extension": ".py",
   "mimetype": "text/x-python",
   "name": "python",
   "nbconvert_exporter": "python",
   "pygments_lexer": "ipython3",
   "version": "3.11.0rc1"
  }
 },
 "nbformat": 4,
 "nbformat_minor": 1
}
